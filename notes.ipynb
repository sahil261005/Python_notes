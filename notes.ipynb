
# ### FILTER AND MAP FUNCTIONS#######


# %% [markdown]
# a==2 #CHECKS IF a is equal to two
# a=2 #assigns a a value of 2
# 

# %% [markdown]
# The .join() method in Python is a string method used to concatenate or join elements of an iterable (like a list, tuple, or string) into a single string.
# 
# words = ["Hello", "world", "this", "is", "Python"]
# sentence = " ".join(words)
# 
# Hello world this is Python
# 
# s = "Python"
# result = "*".join(s)
# output = P*y*t*h*o*n
# 

# %% [markdown]
# ## for i in range(len(nums) - 1, -1, -1):
# 
# Suppose nums = [1, 2, 3, 4]. The length of nums is 4. Let's see how this loop would iterate:
# 
# len(nums) - 1 is 4 - 1 = 3, which is the starting index (the last index of nums).
# stop = -1, so the loop stops before reaching -1 **(i.e., it stops after reaching 0).**
# step = -1, so it moves backward by one step each time
# 

# %% [markdown]
# ## TIME COMPLEXITY ORDER
# 
# O(1) < O(log n) < O(n) < O(n log n) < O(n^2) < O(n^3) < O(2^n) < O(n!)
# 

# %% [markdown]
# if stones[i] in jewels: ##valid##
# 

# %%
def count_substring(string, sub_string):
    count = 0
    start = 0
    
    while True:
        start = string.find(sub_string, start)
        if start == -1:
            break
        count+=1
        start+=1
    return count
            


# %% [markdown]
# The find() method in Python is a string method used to locate the position of a substring within a string. It returns the lowest index in the string where the specified substring is found. If the substring is not found, it returns -1.
# 

# %%
while True:
    user_input = input("Enter something (type 'exit' to quit): ")
    if user_input == "exit":
        print("Exiting the loop.")
        break
    else:
        print("You entered:", user_input)

# %% [markdown]
# Enter something (type 'exit' to quit): hello
# You entered: hello
# Enter something (type 'exit' to quit): exit
# Exiting the loop.
# The while True loop runs indefinitely because True is always true.
# The user is prompted to enter something.
# If the user types "exit", the break statement is executed, which terminates the loop.
# 

# %% [markdown]
# ## List comprehension
# 
# if x = [1,2,3,4]
# we can directly write
# y = [2 * i for i in x]
# print(y)
# output = [2,4,6,8]
# 

# %% [markdown]
# if **name** == '**main**': # Reading four integers from user input
# x = int(input())
# y = int(input())
# z = int(input())
# n = int(input())
# 
# ## USING LIST COMPREHENSION
# 
#     list = [[i, j, k] for i in range(0, x+1) for j in range(0, y+1) for k in range(0, z+1) if i + j + k != n]
# 
#     # Printing the generated list
#     print(list)
# 

# %% [markdown]
# ## SETS\*\*
# 
# ## A set is a built-in data structure in Python that represents an unordered collection of unique elements. Unlike lists or tuples, sets do not allow duplicate values, and they do not maintain any order of elements.
# 
# Adding Elements: Use add() method to add an element to a set.
# my_set = {1, 2, 3}
# my_set.add(4)
# print(my_set)
# 
# ## Intersection (& or intersection()): Finds common elements between sets.
# 
# set1 = {1, 2, 3}
# set2 = {3, 4, 5}
# intersection_set = set1 & set2 # or set1.intersection(set2) ## & used for finding interection
# print(intersection_set) # Output: {3}
# 
# when you print a set in Python, the output is typically shown in curly braces {}, which indicates that it is a set. This is the default string representation for sets in Python, similar to how lists are shown with square brackets [].
# sets are unordered collections, the order of elements in the resulting list may not match the order in which elements were added to the set.
# 

# %% [markdown]
# ## Given the participants' score sheet for your University Sports Day, you are required to find the runner-up score. You are given scores. Store them in a list and find the score of the runner-up.
# 

# %%
if __name__ == "__main__":
    n = int(input())  # Read number of participants (not used directly)
    scores = list(map(int, input().split()))  # Read scores into a list

    unique_scores = set(scores)  # Remove duplicates
    unique_scores.remove(max(unique_scores))  # Remove the highest score
    runner_up = max(unique_scores)  # Find the runner-up score
    print(runner_up)  

# %% [markdown]
# scores = list(map(int, input().split())) # Read scores into a list
# This line reads a line of input, splits it into individual strings using split(), converts each string to an integer using map(int, ...), and then stores these integers in a list called scores.
# For example, if the input is 2 3 6 6 5, scores will be [2, 3, 6, 6, 5].
# 
# unique_scores = set(scores) # Remove duplicates
# This line converts the list scores into a set called unique_scores.
# Sets automatically remove duplicates, so if scores was [2, 3, 6, 6, 5], unique_scores will become {2, 3, 6, 5}.
# Using a set is useful because it helps to easily manage duplicates and ensures we only deal with unique scores.
# 

# %% [markdown]
# ## MAP
# 
# The map() function in Python is a powerful and versatile tool used for applying a given function to each item of an iterable (like a list, tuple, or set) and returning an iterator of the results
# 
# syntax of the map() function in Python is:
# map(function, iterable, ...)
# 
# EX:
# string_numbers = ["1", "2", "3", "4", "5"]
# 
# # Use map() to convert each string to an integer
# 
# integer_numbers = map(int, string_numbers)
# 
# # Convert the map object to a list to see the result
# 
# integer_numbers_list = list(integer_numbers)
# 
# print(integer_numbers_list) # Output: [1, 2, 3, 4, 5]
# 

# %%
students = []
n = int(input())
for _ in range(n):
        name = input()
        score = float(input())
        students.append([name, score]) # IMP
scores = [score for name, score in students]
unique_scores = sorted(set(scores))

second_lowest_score = unique_scores[1]
    
second_lowest_students = [name for name, score in students if score == second_lowest_score]
        
second_lowest_students.sort()
for name in second_lowest_students:
    print(name)


# %% [markdown]
# students.append([name, score])
# scores = [score for name, score in students]
# This line of code extracts all the scores from the students list and creates a new list containing just the scores.
# 
#     score for name, score in students is the core part of the list comprehension. It iterates over each element in the students list, which are sublists in the form [name, score].
# 

# %% [markdown]
# ## any()
# 
# s = abc32df
# has_alphanumeric = any(char.isalnum() for char in s)
# 
# The any() function is a built-in Python function that returns True if at least one element of the iterable it is given is True. If all elements are False, it returns False.
# In this case, the any() function is used to check if there's at least one alphanumeric character in the string s.
# The generator expression char.isalnum() for char in s produces a sequence of Boolean values (True or False) depending on whether each character is alphanumeric.
# 

# %% [markdown]
# ## IMP
# 
# The for loop uses for i in range(ans):, but ans is a list, and you can't iterate over a list using range in this manner. You should use range(len(ans)) or a more appropriate condition for your goal.
# 

# %% [markdown]
# ans = [0] _ (2 _ n) # Creates a list with 2n elements initialized to 0
# 

# %% [markdown]
# ## SPLIT()
# 
# def solve(s):
# return ' '.join([i.capitalize() for i in s.split(" ")])
# 
# #############################################################
# 
# The s.split(" ") part breaks the string s into a list of words. It uses a space (" ") as the separator. Each word in the original string becomes an element in this list.
# 
# ## s = "hello world"
# 
# ## s.split(" ") # returns ['hello', 'world']
# 
# [i.capitalize() for i in s.split(" ")] is a list comprehension that iterates over each word (i.e., each i) in the list created by s.split(" ").
# The i.capitalize() method is applied to each word. This method capitalizes the first letter of the word and makes the rest lowercase
# 

# %% [markdown]
# ## LIST()
# 
# s = "hello"
# list(s) # Output: ['h', 'e', 'l', 'l', 'o']
# 

# %% [markdown]
# ## .join()
# 
# The .join() method takes an iterable (such as a list, tuple, or set) and returns a single string with the elements of the iterable joined together.
# lst = ['a', 'b', 'c']
# ''.join(lst) # Output: 'abc'
# 
# words = ['Hello', 'World']
# ' '.join(words) # Output: 'Hello World'
# 
# letters = ['a', 'b', 'c']
# ''.join(letters) # Output: 'abc' (no separator)
# ' '.join(letters) # Output: 'a b c' (space as separator)
# 

# %% [markdown]
# def merge_the_tools(string, k):
# for i in range(0, len(string), k):
# lis=[]
# for m in range(i, i+k):
# if string[m] not in lis:
# lis.append(string[m])
# print("".join(lis))
# 
# input = AABCAAADA s = 'AABCAAADA'
# 
# Sample Output :
# AB
# CA
# AD
# 

# %% [markdown]
# ## You can reverse an array 'A' by:
# 
# A[::-1]
# 

# %% [markdown]
#                                                     **String Formatting**
# 

# %%
def print_formatted(n):
    # Find the width for alignment (width of binary form of the largest number)
    width = len(bin(n)) - 2  # Removing the '0b' prefix from binary representation

    # Loop from 1 to n
    for i in range(1, n+1):
        # Print values in different formats, right-aligned by `width`
        print(f"{str(i).rjust(width)} {oct(i)[2:].rjust(width)} {hex(i)[2:].upper().rjust(width)} {bin(i)[2:].rjust(width)}")

# Example usage
n = int(input("Enter a number: "))  # Take input
print_formatted(n)

# %% [markdown]
# bin(n) converts the number n to its binary representation (e.g., for n=5, it gives '0b101').
# len(bin(n)) returns the length of this binary string, which includes the '0b' prefix (for binary numbers)
# if the largest binary number will be '101', which has a width of 3. This loop runs from 1 to n. For each value of i, the function will print i in decimal, octal, hexadecimal (capitalized), and binary forms.
# 

# %%
print(f"{str(i).rjust(width)} {oct(i)[2:].rjust(width)} {hex(i)[2:].upper().rjust(width)} {bin(i)[2:].rjust(width)}")


# %% [markdown]
# str(i) converts the number i to a string so that it can be formatted.
# .rjust(width) right-aligns the string representation of i in a field of width equal to the width calculated earlier
# 
# oct(i) converts i to its octal form. For example, oct(5) returns '0o5'.
# [2:] removes the '0o' prefix, leaving just the octal digits.
# .rjust(width) right-aligns the octal digits similarly to the decimal number  
# example: print(f"{'Item'.ljust(10)} {'Price'}")
# 
# # Print each item with its price, right-aligned
# 
# for item, price in zip(items, prices):
# print(f"{item.ljust(10)} {str(price).rjust(5)}")
# 
# output:
# Item Price
# Apples 10
# Bananas 5
# Cherries 75
# Dates 100
# 

# %% [markdown]
#                                **#  F STRINGS**
# 

# %% [markdown]
# -strings start with an f or F before the string, followed by curly braces {} that can contain variables, expressions, or even function calls.
# The expressions inside the curly braces are evaluated at runtime, and their values are inserted into the string at that location.
# a = 5
# b = 3
# print(f"The sum of {a} and {b} is {a + b}.")
# 
# EXAMPLE:
# print(f"{'Item':<10} {'Qty':<5} {'Price':<10} {'Total':<10}")
# 
# ## The :<10 part means left-align the text within a 10-character wide field. Similarly, :<5 means left-align in a 5-character field.
# 
# print("-" _ 35)
# for item in items:
# name = item["name"]
# price = item["price"]
# quantity = item["quantity"]
# total = price _ quantity
# total_cost += total # Print each item's details with proper formatting
# print(f"{name:<10} {quantity:<5} ${price:<9.2f} ${total:<9.2f}")
# 

# %% [markdown]
# ####################################################################################################################################################
# 
# For ascendin order:
# nums = [1,2,4,4,6,7]
# print(sorted(nums))
# 
# for reverse
# k = sorted(nums, reverse=True)
# print(K)
# 

# %% [markdown]
# ##FILTER
# 
# The filter() function in Python is used to filter elements from an iterable (like a list or tuple) based on a condition. It returns a filter object (an iterator) containing only the elements that satisfy the given condition.
# 
# Synatx:::
# filter(function, iterable)
# function: A function that returns True or False for each element.
# iterable: The sequence (list, tuple, etc.) to be filtered.
# 
# def is_even(num):
# return num % 2 == 0
# numbers = [1, 2, 3, 4, 5, 6, 7, 8, 9, 10]
# even_numbers = filter(is_even, numbers)
# print(list(even_numbers))
# 
# output = [2, 4, 6, 8, 10]
# 

# %% [markdown]
# ## enumerate()
# 
# The enumerate() function in Python adds a counter (index) to an iterable and returns it as an enumerate object. This is useful when you need both index and value while looping through an iterable.
# 
# Syntax:  
# enumerate(iterable, start=0)
# 
# iterable: Any iterable like a list, tuple, or string.
# start (optional): The starting index (default is 0).
# 
# fruits = ["apple", "banana", "cherry"]
# for index, fruit in enumerate(fruits):
# print(index, fruit)
# output:
# 0 apple
# 1 banana
# 2 cherry
# 

# %% [markdown]
# ## ZIP()
# 
# The zip() function is used to combine two or more iterables (like lists, tuples, or strings) element-wise into pairs (or tuples). It stops when the shortest iterable is exhausted.
# 
# Syntax:
# zip(iterable1, iterable2, ...)
# 
# It returns a zip object (an iterator) that can be converted into a list, tuple, or dictionary.
# If the iterables have different lengths, zip() stops at the shortest one
# 
# names = ["Alice", "Bob", "Charlie"]
# ages = [25, 30, 35]
# result = zip(names, ages)
# print(list(result))
# 
# [('Alice', 25), ('Bob', 30), ('Charlie', 35)]
# 

# %%
name = "sahil"
print(f"Hello, {name}")

# %% [markdown]
# if we dp0 x = input("enter a number") let x = 1
# y = input("eneter a number") let y = 2
# print(x+y) THIS WILL GIVE 12 not 3
# 
#             #This is cuz we didnt use int#
# 
#             so just do:
#             x = int(input("enter a number"))
#             y = int(input("eneter a number"))
# 

# %%
k = 0.6777
c = round(k, 2)
print(f"Value of k upto 2 decimal places: {c}")

# %% [markdown]
# Return VS Print
# 
# return Statement
# return sends a value back to the function caller.
# print only displays output on the console.
# It does not return a value,
# 
# Ex:
# def greet(name):
# print(f"Hello, {name}!") # Just prints a greeting
# 
# greet("Alice") ##Output: Hello, Alice!
# 
# If you replace print with return in the greet function, here's what happens:
# Nothing will be printed because return only sends the value back, but we didn’t print it.
# 

# %% [markdown]
# Use if,then,elif for rest....Then the last would be else cuz if all conditions in if and and elif are not executed then guarnteed else would be
# 

# %% [markdown]
# Match In python:
# 
# match is used for structural pattern matching, introduced in Python 3.10. It allows you to match a value against a pattern, similar to switch statements
# 

# %%
def check_day(day):
    match day:
        case "Monday":
            print("Start of the week!")
        case "Friday":
            print("Weekend is near!")
        case "Sunday":
            print("It's a holiday!")
        case _:  ## THIS IS USED AS DEFAULT CASE
            print("Just another day.")

check_day("Friday")  # Output: Weekend is near!

# %% [markdown]
# The f""" ... """ syntax in Python is used for multi-line f-strings.
# 
# Example:
# name = "Alice"
# age = 25
# 
# message = f"""
# Hello, my name is {name}.
# I am {age} years old.
# """
# 
# print(message)
# 
# It lets you write multi-line strings with variable interpolation.
# 

# %% [markdown]
# k = [2,3,4,5]
# k.clear() is used to delete elements in list
# 

# %% [markdown]
# ##IMP
# 
# a==b #checks if both value are same
# a is b checks if boths memory location is same
# 

# %% [markdown]
# To check prime numbers:
# 
# Loop from 2 to √n
# This reduces the number of checks, making the function much faster.
# 

# %%
def is_prime(n):
    if n < 2:
        return False  # Numbers less than 2 are not prime

    for i in range(2, n):  # Loop from 2 to n-1   ##SO IF OUR n =6 THEN IT WILL CHECK FOR 2,3,4,5...IT WILL NOT CHECK FOR 6
        if n % i == 0:
            return False  # If divisible, not prime
    
    return True  # Otherwise, it's prime


# %% [markdown]
# ## Using Debugger in Python
# 
# Set a breakpoint by clicking on the left margin next to a line number (a red dot will appear).
# Step Over (F10): Run the next line without stepping into functions.
# Step Into (F11): Step inside functions.
# Step Out (Shift + F11): Exit a function and return to the calling line.
# Continue (F5): Resume execution until the next breakpoint.
# 
# Open the "Variables" panel to inspect values.
# Use the "Watch" panel to track specific variables.
# 

# %% [markdown]
# Satistics in Pyton:
# 

# %%
import statistics

statistics.mean([1, 2, 3, 4, 4])  # Output: 2.8
statistics.median([1, 3, 3, 6, 7, 8, 9])  # Output: 6
statistics.mode([1, 1, 2, 3, 3, 3, 4])  # Output: 3


# %% [markdown]
# ## Command line arument
# 
# import sys
# 
# Meaning of import sys in Python
# The statement import sys in Python imports the sys module, which provides functions and variables used to interact with the Python interpreter.
# 
# import sys
# 
# # Print all arguments
# 
# print("Arguments passed:", sys.argv)
# 
# # Print script name
# 
# print("Script name:", sys.argv[0])
# 
# # Print first argument (if exists)
# 
# if len(sys.argv) > 1:
# print("First argument:", sys.argv[1])
# else:
# print("No arguments passed.")
# 
# # Run in Terminal:
# 
# python script.py hello world
# 
# Output:
# Arguments passed: ['script.py', 'hello', 'world']
# Script name: script.py
# First argument: hello
# 
# When to Use sys.exit()?
# ✔ To stop execution when an error occurs
# ✔ To exit a script after printing a message
# ✔ To return an exit code for external scripts
# 

# %% [markdown]
# pip (short for Package Installer for Python) is used to install and manage Python libraries and dependencies from the Python Package Index (PyPI).
# 
# EX:
# pip install package_name
# 

# %% [markdown]
# API:
# Application Programming Interface
# 
# requests in pyton allows to use API
# 

# %% [markdown]
# JSON:
# JSON stands for JavaScript Object Notation. It is a lightweight data format used for storing and exchanging data between a server and a client (e.g., a web browser or mobile app).
# 
# Yes, most modern APIs return data in JSON format because it is lightweight, easy to read, and widely supported by programming languages.
# Most APIs return JSON, so it's useful to convert it into a Python dictionary using .json().
# 
# If the API Response is Not JSON (Plain Text, HTML, XML, etc.)
# Some APIs return plain text or HTML instead of JSON. In that case, use .text instead of .json().
# 

# %% [markdown]
# # import JSON
# 
# json.dumps() in Python
# json.dumps() is used to convert a Python object into a JSON-formatted string.
# 
# EX:
# import json
# data = {"name": "Alice", "age": 25, "city": "New York"}
# json_string = json.dumps(data)
# print(json_string)
# 
# OUTPUT: {"name": "Alice", "age": 25, "city": "New York"}
# The output is a JSON-formatted string, not a dictionary
# 
# json.dumps() returns a string representation of a dictionary (str type).
# 
# we can also do:
# json_string = json.dumps(data, indent=4)
# print(json_string)
# 
# output:
# {
# "name": "Alice",
# "age": 25,
# "city": "New York"
# }
# 

# %%
import requests

# Search for an artist (e.g., "Imagine Dragons")
artist = "Imagine Dragons"
url = f"https://itunes.apple.com/search?term={artist}&entity=musicTrack"

# Fetch data from iTunes API
response = requests.get(url)
data = response.json()  # Convert response to JSON

# Print the first 5 song names
for track in data["results"][:5]:
    print(track["trackName"])


# %% [markdown]
# OUTPUT:
# Believer
# Thunder
# Demons
# Radioactive
# Whatever It Takes
# 

# %% [markdown]
# if **name** == "**main**": Mean in Python?
# This special conditional is used in Python to determine whether a script is being run directly or imported as a module into another script.
# 
# The special variable **name** is set to "**main**" if the script is executed directly.
# If the script is imported into another script, **name** is set to the script's filename (without .py).
# 🔹 When to Use It?
# ✅ Prevent code from running when imported (useful for reusable modules).
# 
# EX:
# 
# def main():
# name = input("What is your name? ")
# hello(name)
# 
# def hello(name="world"):
# print(f"Hello, {name}!")
# 
# if **name** == "**main**":
# main()
# 
# # WEN U RUN SCRIPT DIRECTLY:
# 
# What is your name? Alice
# Hello, Alice!
# 
# IMPORTIN SCRIPT:
# If we import this file into another script, like this:
# 
# import hello
# hello.hello("David") # Calling hello() manually
# 
# OUTPUT:
# Hello, David!
# It does NOT ask for input because main() does not run automatically..It does not call main function of first file..if we run 2nd file
# 
# # IN TESE EXAMPLES WE R RUNNIN FILES IN COMMAND LINE BTW
# 

# %% [markdown]
# API
# 
# Need to import requests
# 

# %%
import requests

def main():
    print("Welcome to ART Institute of USA")
    artist = input("Enter the name of the artist: ")

    url = "https://api.artic.edu/api/v1/artworks/search"
    params = {"q": artist}  # Sending query parameter properly

    try:
        response = requests.get(url, params=params)
        response.raise_for_status()  # Checks for HTTP errors

        data = response.json()  # Convert response to JSON

        # Display results
        if "data" in data and data["data"]:
            print(f"Found {len(data['data'])} artworks for {artist}:")
            for artwork in data["data"]:
                print(f"- {artwork.get('title', 'No Title')}")
        else:
            print("No artworks found for this artist.")

    except requests.exceptions.HTTPError:
        print("Could not fetch data from the API.")

if __name__ == "__main__":
    main()


# %% [markdown]
# # Packages
# 
# A package is a collection of modules organized in a directory with a special **init**.py file. It allows you to structure your Python code neatly and reuse functionality across multiple projects.
# 
# Think of a package as a folder that contains multiple Python files (modules), and each module contains functions, classes, or variables.
# 
# Let’s create a package named mypackage that contains two modules:
# 
# math_operations.py (for mathematical functions)
# string_operations.py (for string-related functions)
# 
# Create a folder named mypackage in your working directory.
# 
# Step 2: Add an **init**.py File
# Inside mypackage/, create an empty file called **init**.py.
# This file makes mypackage a package. It can also include initialization code if needed.
# 
# USE IT:
# from mypackage.math_operations import add, subtract
# from mypackage.string_operations import uppercase
# 

# %% [markdown]
# use sorted(names)
# to sort a list in a loop
# 

# %% [markdown]
# file.write(names)
# this will write names ike thsi --> sahilomcatdog
# hence to add a new line charachter
# we use:
# 
# file.write(f"{name}\n")
# 

# %%
with open("names.txt", "a") as file:
    file.write(f"{name}\n")

# %% [markdown]
# # SORTING
# 
# sorted (iterable, key = None, reverse=False)
# or
# sorted (iterable, key = None, reverse=True)
# 

# %% [markdown]
# `# CSV FILE
# 
# while using CSV files..values are comma seprated sp while looping through the file to get the individual values we need to split it before the commas(")
# 
# DOne by:
# 
# line.split(",") # looks for comma ans splits it
# Ex:
# for line in file:
# row = line.rstrip().split(",")
# print(f"{row[0]} is in the house {row[1]}")
# 
# # import csv
# 
# # csv.reader(file_name)
# 
#     csv.reader used to read all contents of a file, read all commas etc....RETURN LIST
# 
# # csv.DictReader(file_name)
# 
# # csv.writer(file_name)
# 
#     writer.writerow([name, home])
# 
# # csv.DictWriter(file_name)
# 
#      writer.writerow({"name" : name, "home" : home})
# 

# %% [markdown]
# # Regular Expression:
# 
# regular expressions (regex).
# 
# Why regex is useful: searching, validating, and manipulating text data.
# 
# Common use cases: pattern matching, form validation, parsing text files.
# 
# . (dot) - Matches any character except newline.
# ^ - Matches the start of a string.
# $ - Matches the end of a string.
# 
# - - Matches 0 or more occurrences of the preceding character.
# 
# * - Matches 1 or more occurrences of the preceding character.
#     ? - Matches 0 or 1 occurrence of the preceding character.
#     | - OR operator (e.g., cat|dog matches “cat” or “dog”).
# 
# [abc] - Matches any single character a, b, or c.
# [a-z] - Matches any lowercase letter from a to z.
# [0-9] - Matches any digit.
# \d - Matches any digit (0-9).
# # \w : USE TO MATCH WORD CHARACHTERS,NUMBERS AND EVEN UNDERSCORE
# 
# ## Escaping Special Characters
# 
# Using \ to escape metacharacters (e.g., \. matches a literal dot).
# 
# import re
# Key Functions:
# re.search() - Finds the first occurrence of a pattern.
# re.findall() - Returns all matches as a list.
# re.match() - Checks for a match only at the beginning of the string.
# re.fullmatch() - Checks if the entire string matches the pattern.
# 
# Flags
# re.IGNORECASE (re.I) - Case-insensitive matching.
# re.MULTILINE (re.M) - Multi-line matching.
# re.DOTALL (re.S) - Allows . to match newline characters.
# 

# %%
import re

def is_valid_email(email):
    pattern = r"^[a-zA-Z0-9._%+-]+@[a-zA-Z0-9.-]+\.[a-zA-Z]{2,}$"
    return bool(re.match(pattern, email))

# Testing the function
print(is_valid_email("user@example.com"))     # Output: True
print(is_valid_email("invalid-email@com"))    # Output: False
''''
# Here, we are defining a regular expression pattern to validate an email address. Let's break down this pattern:
🔑 Pattern Breakdown^ - Asserts the position at the start of the string (the email must start with the next part of the pattern).
[a-zA-Z0-9._%+-]+ - This part matches the username before the @.
[a-zA-Z0-9._%+-] - Matches any letter (uppercase or lowercase), digit, dot, underscore, percentage sign, plus, or hyphen.
+ - Ensures that there must be at least one or more valid characters before the @.
@ - Matches the "@" symbol which separates the username from the domain.
[a-zA-Z0-9.-]+ - This part matches the domain name.
[a-zA-Z0-9.-] - Matches any letter, digit, dot, or hyphen.
+ - Ensures there must be at least one or more valid characters before the dot.
\. - Matches a literal dot (.). The \ is used to escape the dot because, in regex, a dot by itself matches any character.
[a-zA-Z]{2,} - This part matches the Top-Level Domain (TLD).
[a-zA-Z] - Matches any letter.
{2,} - Ensures the TLD must be at least 2 characters long (like .com, .org, .edu, etc.).
$ - Asserts the position at the end of the string (the email must end here, nothing should be after the TLD).'
'''
import re

# %% [markdown]
# Great question! The r" at the start is used to define a raw string literal in Python
#  raw string literal tells Python to treat backslashes (\) as literal characters and not as escape characters.
#  Regular expressions often use backslashes to escape special characters,
# 
# 
# 
# 
#  
# 
# 
#  


